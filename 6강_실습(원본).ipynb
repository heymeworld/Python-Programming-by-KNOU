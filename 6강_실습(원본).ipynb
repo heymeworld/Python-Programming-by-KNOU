{
  "nbformat": 4,
  "nbformat_minor": 0,
  "metadata": {
    "colab": {
      "provenance": [],
      "include_colab_link": true
    },
    "kernelspec": {
      "name": "python3",
      "display_name": "Python 3"
    },
    "language_info": {
      "name": "python"
    }
  },
  "cells": [
    {
      "cell_type": "markdown",
      "metadata": {
        "id": "view-in-github",
        "colab_type": "text"
      },
      "source": [
        "<a href=\"https://colab.research.google.com/github/heymeworld/Python-Programming-by-KNOU/blob/main/6%EA%B0%95_%EC%8B%A4%EC%8A%B5(%EC%9B%90%EB%B3%B8).ipynb\" target=\"_parent\"><img src=\"https://colab.research.google.com/assets/colab-badge.svg\" alt=\"Open In Colab\"/></a>"
      ]
    },
    {
      "cell_type": "markdown",
      "source": [
        "# 6장 1절"
      ],
      "metadata": {
        "id": "hckgpz65oDBv"
      }
    },
    {
      "cell_type": "code",
      "source": [
        "3 > 6"
      ],
      "metadata": {
        "id": "fIAJ3b3CTZaE",
        "outputId": "50ad912c-8d84-4db7-fdc6-17c5c48893f9",
        "colab": {
          "base_uri": "https://localhost:8080/"
        }
      },
      "execution_count": 1,
      "outputs": [
        {
          "output_type": "execute_result",
          "data": {
            "text/plain": [
              "False"
            ]
          },
          "metadata": {},
          "execution_count": 1
        }
      ]
    },
    {
      "cell_type": "code",
      "source": [
        "3 < 6"
      ],
      "metadata": {
        "id": "A_2qFeGdTemt",
        "outputId": "dc698a4d-55f5-4a75-ed5e-10e5c13fa1f5",
        "colab": {
          "base_uri": "https://localhost:8080/"
        }
      },
      "execution_count": 2,
      "outputs": [
        {
          "output_type": "execute_result",
          "data": {
            "text/plain": [
              "True"
            ]
          },
          "metadata": {},
          "execution_count": 2
        }
      ]
    },
    {
      "cell_type": "code",
      "source": [
        "3 == 6"
      ],
      "metadata": {
        "id": "_Z8U627iTgFY",
        "outputId": "443ce513-fd00-4ea2-a8e8-450861aa48c0",
        "colab": {
          "base_uri": "https://localhost:8080/"
        }
      },
      "execution_count": 3,
      "outputs": [
        {
          "output_type": "execute_result",
          "data": {
            "text/plain": [
              "False"
            ]
          },
          "metadata": {},
          "execution_count": 3
        }
      ]
    },
    {
      "cell_type": "code",
      "source": [
        "rad = 10\n",
        "rad == 10"
      ],
      "metadata": {
        "id": "140uIxkITjsM",
        "outputId": "7bb240f2-197a-4814-ca53-0a3c4b640714",
        "colab": {
          "base_uri": "https://localhost:8080/"
        }
      },
      "execution_count": 5,
      "outputs": [
        {
          "output_type": "execute_result",
          "data": {
            "text/plain": [
              "True"
            ]
          },
          "metadata": {},
          "execution_count": 5
        }
      ]
    },
    {
      "cell_type": "code",
      "source": [
        "light_on = 3 > 6\n",
        "print(light_on)"
      ],
      "metadata": {
        "id": "2g--AoeoTqyO",
        "outputId": "26b72a28-a174-443a-d4d7-b723c7ee66fb",
        "colab": {
          "base_uri": "https://localhost:8080/"
        }
      },
      "execution_count": 7,
      "outputs": [
        {
          "output_type": "stream",
          "name": "stdout",
          "text": [
            "False\n"
          ]
        }
      ]
    },
    {
      "cell_type": "code",
      "source": [
        "suf = 10\n",
        "vol = 20\n",
        "isStop = suf == vol\n",
        "print(isStop)"
      ],
      "metadata": {
        "id": "kk4gAMQaTyuH",
        "outputId": "3d3b7f74-7070-4cb3-9f0d-41aca1ef9ffc",
        "colab": {
          "base_uri": "https://localhost:8080/"
        }
      },
      "execution_count": 9,
      "outputs": [
        {
          "output_type": "stream",
          "name": "stdout",
          "text": [
            "False\n"
          ]
        }
      ]
    },
    {
      "cell_type": "code",
      "execution_count": 11,
      "metadata": {
        "id": "ZW1w8qQHoAm3",
        "outputId": "882426c8-dca7-4836-8361-5a2a9f51b8b0",
        "colab": {
          "base_uri": "https://localhost:8080/"
        }
      },
      "outputs": [
        {
          "name": "stdout",
          "output_type": "stream",
          "text": [
            "반지름을 입력하세요:-20\n",
            "높이를 입력하세요:30\n"
          ]
        }
      ],
      "source": [
        "#반지름 사용자 입력\n",
        "rad = int(input(\"반지름을 입력하세요:\"))\n",
        "#높이 사용자 입력\n",
        "hei = int(input(\"높이를 입력하세요:\"))\n",
        "\n",
        "if rad > 0:\n",
        "    #부피&겉넓이 계산\n",
        "    vol = 1/3 * 3.14 * rad ** 2 * hei\n",
        "    suf = 3.14 * rad ** 2 + 3.14 * rad * hei\n",
        "    print(\"원뿔의 부피는\" ,vol, \"입니다.\")\n",
        "    print(\"원뿔의 겉넓이는\" ,suf, \"입니다\")"
      ]
    },
    {
      "cell_type": "markdown",
      "source": [],
      "metadata": {
        "id": "gIxdfGagpB53"
      }
    },
    {
      "cell_type": "markdown",
      "source": [
        "# 6강 2절"
      ],
      "metadata": {
        "id": "cquz2vj9oGml"
      }
    },
    {
      "cell_type": "markdown",
      "source": [
        "가장 큰 수 찾는 프로그램"
      ],
      "metadata": {
        "id": "_2ZlVieZpKuT"
      }
    },
    {
      "cell_type": "code",
      "source": [
        "temp = 20\n",
        "fruit = \"apple\"\n",
        "\n",
        "print(temp >= 27 and fruit == \"pear\")"
      ],
      "metadata": {
        "id": "SuPkvKRSoJBE",
        "colab": {
          "base_uri": "https://localhost:8080/"
        },
        "outputId": "3a1c0ca9-a4a2-4c74-ad0b-47f622dabbb1"
      },
      "execution_count": 12,
      "outputs": [
        {
          "output_type": "stream",
          "name": "stdout",
          "text": [
            "False\n"
          ]
        }
      ]
    },
    {
      "cell_type": "code",
      "source": [
        "temp = 20\n",
        "fruit = \"apple\"\n",
        "\n",
        "print(temp <= 27 or fruit == \"pear\")"
      ],
      "metadata": {
        "id": "dCaPLu5-V71j",
        "outputId": "7cdc1fa8-ead4-4327-d61c-e7416a2b8d1e",
        "colab": {
          "base_uri": "https://localhost:8080/"
        }
      },
      "execution_count": 13,
      "outputs": [
        {
          "output_type": "stream",
          "name": "stdout",
          "text": [
            "True\n"
          ]
        }
      ]
    },
    {
      "cell_type": "code",
      "source": [
        "temp = 20\n",
        "fruit = \"apple\"\n",
        "\n",
        "print(not temp <= 27)"
      ],
      "metadata": {
        "id": "2iGHO3y8V_rr",
        "outputId": "39a95af8-4bc6-4ea2-ab99-802c0260750c",
        "colab": {
          "base_uri": "https://localhost:8080/"
        }
      },
      "execution_count": 14,
      "outputs": [
        {
          "output_type": "stream",
          "name": "stdout",
          "text": [
            "False\n"
          ]
        }
      ]
    },
    {
      "cell_type": "code",
      "source": [
        "#반지름 사용자 입력\n",
        "rad = int(input(\"반지름을 입력하세요:\"))\n",
        "#높이 사용자 입력\n",
        "hei = int(input(\"높이를 입력하세요:\"))\n",
        "\n",
        "if rad > 0 and hei > 0:\n",
        "    #부피&겉넓이 계산\n",
        "    vol = 1/3 * 3.14 * rad ** 2 * hei\n",
        "    suf = 3.14 * rad ** 2 + 3.14 * rad * hei\n",
        "    print(\"원뿔의 부피는\" ,vol, \"입니다.\")\n",
        "    print(\"원뿔의 겉넓이는\" ,suf, \"입니다\")"
      ],
      "metadata": {
        "id": "leTJFe2AWMkY",
        "outputId": "ed74b2cb-5cc4-40ff-d9ff-47d8914193d4",
        "colab": {
          "base_uri": "https://localhost:8080/"
        }
      },
      "execution_count": 16,
      "outputs": [
        {
          "name": "stdout",
          "output_type": "stream",
          "text": [
            "반지름을 입력하세요:20\n",
            "높이를 입력하세요:-30\n"
          ]
        }
      ]
    },
    {
      "cell_type": "markdown",
      "source": [
        "# 6강 3절"
      ],
      "metadata": {
        "id": "8PzlDt8TWgP8"
      }
    },
    {
      "cell_type": "markdown",
      "source": [
        "else를 이용한 원뿔 프로그램 개선"
      ],
      "metadata": {
        "id": "k2Gqz-B3Y9oa"
      }
    },
    {
      "cell_type": "code",
      "source": [
        "#반지름 사용자 입력\n",
        "rad = int(input(\"반지름을 입력하세요:\"))\n",
        "#높이 사용자 입력\n",
        "hei = int(input(\"높이를 입력하세요:\"))\n",
        "\n",
        "if rad > 0 and hei > 0:\n",
        "    #부피&겉넓이 계산\n",
        "    vol = 1/3 * 3.14 * rad ** 2 * hei\n",
        "    suf = 3.14 * rad ** 2 + 3.14 * rad * hei\n",
        "    print(\"원뿔의 부피는\" ,vol, \"입니다.\")\n",
        "    print(\"원뿔의 겉넓이는\" ,suf, \"입니다\")\n",
        "else:\n",
        "    print(\"반지름과 높이의 값을 모두 양수로 입력해주세요\")"
      ],
      "metadata": {
        "id": "BVgE9kp2Y8EL",
        "outputId": "f7e295c2-2f1d-4467-a4d4-427f7737970b",
        "colab": {
          "base_uri": "https://localhost:8080/"
        }
      },
      "execution_count": 18,
      "outputs": [
        {
          "output_type": "stream",
          "name": "stdout",
          "text": [
            "반지름을 입력하세요:20\n",
            "높이를 입력하세요:-30\n",
            "반지름과 높이의 값을 모두 양수로 입력해주세요\n"
          ]
        }
      ]
    },
    {
      "cell_type": "markdown",
      "source": [
        "가장 큰 수를 찾는 프로그램"
      ],
      "metadata": {
        "id": "lPTJaC-yZV5B"
      }
    },
    {
      "cell_type": "code",
      "source": [
        "# A, B, C 사용자 입력\n",
        "A = int(input(\"A 입력: \"))\n",
        "B = int(input(\"B 입력: \"))\n",
        "C = int(input(\"C 입력: \"))\n",
        "\n",
        "# A, B, C 중 가장 큰 수 출력\n",
        "# max(A, B, C)\n",
        "if A > B:\n",
        "    if A > C:\n",
        "        print(A)\n",
        "    else:\n",
        "        print(C)\n",
        "else:\n",
        "    if B > C:\n",
        "        print(B)\n",
        "    else:\n",
        "        print(C)"
      ],
      "metadata": {
        "id": "lr0nhCfCZY5W",
        "outputId": "52d40d2f-7f04-47a1-e4c4-311b7e37517f",
        "colab": {
          "base_uri": "https://localhost:8080/"
        }
      },
      "execution_count": 20,
      "outputs": [
        {
          "output_type": "stream",
          "name": "stdout",
          "text": [
            "A 입력: 10\n",
            "B 입력: 20\n",
            "C 입력: 30\n",
            "30\n"
          ]
        }
      ]
    }
  ]
}